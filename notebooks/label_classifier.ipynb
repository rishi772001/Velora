{
 "cells": [
  {
   "cell_type": "markdown",
   "metadata": {},
   "source": [
    "# 🔤 Text Classification with DistilBERT (HuggingFace Transformers)\n",
    "**Task:** Predict labels from user prompts  \n",
    "**Model:** `distilbert-base-uncased` (small and accurate)  \n",
    "**Resources:** Optimized for Colab free tier"
   ]
  },
  {
   "cell_type": "code",
   "execution_count": null,
   "metadata": {},
   "outputs": [],
   "source": [
    "!pip install -q transformers datasets scikit-learn"
   ]
  },
  {
   "cell_type": "code",
   "execution_count": null,
   "metadata": {},
   "outputs": [],
   "source": [
    "from transformers import DistilBertTokenizerFast, DistilBertForSequenceClassification, Trainer, TrainingArguments\n",
    "from datasets import Dataset\n",
    "from sklearn.model_selection import train_test_split\n",
    "import torch"
   ]
  },
  {
   "cell_type": "markdown",
   "metadata": {},
   "source": [
    "## 🔹 Step 1: Load Your Dataset"
   ]
  },
  {
   "cell_type": "code",
   "execution_count": null,
   "metadata": {},
   "outputs": [],
   "source": [
    "from sklearn.model_selection import train_test_split\n",
    "from datasets import Dataset\n",
    "\n",
    "data = [\n",
    "    {\"text\": \"Get me the flight details from New York to London on June 10th\", \"label\": \"flight_info\"},\n",
    "    {\"text\": \"Fetch the cheapest flights from Delhi to Mumbai next week\", \"label\": \"flight_search\"},\n",
    "    {\"text\": \"What are the available hotel rooms in Paris for July 1st to July 5th?\", \"label\": \"hotel_search\"},\n",
    "    {\"text\": \"Show bus schedules from Boston to Washington on May 30th\", \"label\": \"bus_schedule\"},\n",
    "    {\"text\": \"Find all trains from Paris to Lyon available next Friday\", \"label\": \"train_search\"},\n",
    "    {\"text\": \"List flights from San Francisco to Chicago departing on August 12th\", \"label\": \"flight_search\"},\n",
    "    {\"text\": \"Get me hotels in Rome for the weekend of June 20th\", \"label\": \"hotel_search\"},\n",
    "    {\"text\": \"Show bus tickets from Dallas to Houston leaving tomorrow morning\", \"label\": \"bus_search\"},\n",
    "    {\"text\": \"Fetch train timings from Berlin to Munich on September 5th\", \"label\": \"train_schedule\"},\n",
    "    {\"text\": \"What flights are available from Los Angeles to Miami on December 15th?\", \"label\": \"flight_search\"},\n",
    "    {\"text\": \"Get hotel availability in Amsterdam from May 22nd for three nights\", \"label\": \"hotel_search\"},\n",
    "    {\"text\": \"Show bus routes from Seattle to Portland on July 18th\", \"label\": \"bus_route\"},\n",
    "    {\"text\": \"List train schedules from Madrid to Barcelona on October 10th\", \"label\": \"train_schedule\"},\n",
    "    {\"text\": \"Get flight options from London to Dubai on November 3rd\", \"label\": \"flight_search\"},\n",
    "    {\"text\": \"Find hotels in New Delhi available for a week starting April 10th\", \"label\": \"hotel_search\"},\n",
    "    {\"text\": \"Show bus tickets from Chicago to Detroit on June 1st\", \"label\": \"bus_search\"},\n",
    "    {\"text\": \"Fetch train availability from Sydney to Melbourne for next Monday\", \"label\": \"train_search\"},\n",
    "    {\"text\": \"Get all flights from Toronto to Vancouver on September 22nd\", \"label\": \"flight_search\"},\n",
    "    {\"text\": \"What hotels are available in Paris from July 10th to July 15th?\", \"label\": \"hotel_search\"},\n",
    "    {\"text\": \"Show bus options from Atlanta to Orlando on August 5th\", \"label\": \"bus_search\"},\n",
    "    {\"text\": \"List train seats available from Moscow to St. Petersburg on December 2nd\", \"label\": \"train_search\"},\n",
    "    {\"text\": \"Fetch flight details from Beijing to Shanghai on October 30th\", \"label\": \"flight_info\"},\n",
    "    {\"text\": \"Get hotel bookings in Cairo for two nights starting November 12th\", \"label\": \"hotel_search\"},\n",
    "    {\"text\": \"Show bus tickets from Philadelphia to New York on May 25th\", \"label\": \"bus_search\"},\n",
    "    {\"text\": \"List trains from Amsterdam to Brussels for next Wednesday\", \"label\": \"train_search\"},\n",
    "    {\"text\": \"Book a flight from New York to London on June 10th\", \"label\": \"flight_booking\"},\n",
    "    {\"text\": \"Reserve a hotel room in Tokyo from July 1st to July 5th\", \"label\": \"hotel_booking\"},\n",
    "    {\"text\": \"I need a bus ticket from Boston to Washington on May 30th\", \"label\": \"bus_booking\"},\n",
    "    {\"text\": \"Book a train ticket from Paris to Lyon for next Friday\", \"label\": \"train_booking\"},\n",
    "    {\"text\": \"Find me a flight from San Francisco to Chicago on August 12th\", \"label\": \"flight_booking\"},\n",
    "    {\"text\": \"Reserve a hotel in Rome for the weekend of June 20th\", \"label\": \"hotel_booking\"},\n",
    "    {\"text\": \"Get me a bus from Dallas to Houston leaving tomorrow morning\", \"label\": \"bus_booking\"},\n",
    "    {\"text\": \"Book a train from Berlin to Munich on September 5th\", \"label\": \"train_booking\"},\n",
    "    {\"text\": \"Flight booking from Los Angeles to Miami on December 15th\", \"label\": \"flight_booking\"},\n",
    "    {\"text\": \"I want to book a hotel room in Amsterdam for three nights starting May 22nd\", \"label\": \"hotel_booking\"},\n",
    "    {\"text\": \"Bus ticket needed from Seattle to Portland on July 18th\", \"label\": \"bus_booking\"},\n",
    "    {\"text\": \"Train reservation from Madrid to Barcelona on October 10th\", \"label\": \"train_booking\"},\n",
    "    {\"text\": \"Book a flight to Dubai from London on November 3rd\", \"label\": \"flight_booking\"},\n",
    "    {\"text\": \"Reserve a hotel in New Delhi for a week starting April 10th\", \"label\": \"hotel_booking\"},\n",
    "    {\"text\": \"I want to buy a bus ticket from Chicago to Detroit on June 1st\", \"label\": \"bus_booking\"},\n",
    "    {\"text\": \"Train ticket from Sydney to Melbourne for next Monday\", \"label\": \"train_booking\"},\n",
    "    {\"text\": \"Book a flight from Toronto to Vancouver on September 22nd\", \"label\": \"flight_booking\"},\n",
    "    {\"text\": \"Hotel booking in Paris from July 10th to July 15th\", \"label\": \"hotel_booking\"},\n",
    "    {\"text\": \"Bus from Atlanta to Orlando on August 5th, please\", \"label\": \"bus_booking\"},\n",
    "    {\"text\": \"Reserve a train seat from Moscow to St. Petersburg on December 2nd\", \"label\": \"train_booking\"},\n",
    "    {\"text\": \"Flight from Beijing to Shanghai on October 30th\", \"label\": \"flight_booking\"},\n",
    "    {\"text\": \"Book a hotel room in Cairo for two nights starting November 12th\", \"label\": \"hotel_booking\"},\n",
    "    {\"text\": \"I need a bus ticket from Philadelphia to New York on May 25th\", \"label\": \"bus_booking\"},\n",
    "    {\"text\": \"Train ticket booking from Amsterdam to Brussels for next Wednesday\", \"label\": \"train_booking\"},\n",
    "    {\"text\": \"Flight reservation from Miami to Cancun on January 15th\", \"label\": \"flight_booking\"},\n",
    "]\n",
    "\n",
    "\n",
    "# Map labels to integers\n",
    "label2id = {label: idx for idx, label in enumerate(sorted(set(d[\"label\"] for d in data)))}\n",
    "id2label = {v: k for k, v in label2id.items()}\n",
    "for d in data:\n",
    "    d[\"label\"] = label2id[d[\"label\"]]\n",
    "\n",
    "# Split dataset\n",
    "train_data, test_data = train_test_split(data, test_size=0.2, random_state=42)\n",
    "train_ds = Dataset.from_list(train_data)\n",
    "test_ds = Dataset.from_list(test_data)\n"
   ]
  },
  {
   "cell_type": "markdown",
   "metadata": {},
   "source": [
    "## 🔹 Step 2: Tokenize and Prepare"
   ]
  },
  {
   "cell_type": "code",
   "execution_count": null,
   "metadata": {},
   "outputs": [],
   "source": [
    "tokenizer = DistilBertTokenizerFast.from_pretrained(\"distilbert-base-uncased\")\n",
    "\n",
    "def tokenize(batch):\n",
    "    return tokenizer(batch[\"text\"], padding=True, truncation=True)\n",
    "\n",
    "train_ds = train_ds.map(tokenize, batched=True)\n",
    "test_ds = test_ds.map(tokenize, batched=True)"
   ]
  },
  {
   "cell_type": "markdown",
   "metadata": {},
   "source": [
    "## 🔹 Step 3: Load Model and Fine-tune"
   ]
  },
  {
   "cell_type": "code",
   "execution_count": null,
   "metadata": {},
   "outputs": [],
   "source": [
    "model = DistilBertForSequenceClassification.from_pretrained(\n",
    "    \"distilbert-base-uncased\",\n",
    "    num_labels=len(label2id),\n",
    "    id2label=id2label,\n",
    "    label2id=label2id,\n",
    ")\n",
    "\n",
    "training_args = TrainingArguments(\n",
    "    output_dir=\"./results\",\n",
    "    evaluation_strategy=\"epoch\",\n",
    "    per_device_train_batch_size=8,\n",
    "    per_device_eval_batch_size=8,\n",
    "    num_train_epochs=5,\n",
    "    weight_decay=0.01,\n",
    "    logging_dir=\"./logs\",\n",
    "    logging_steps=10,\n",
    ")\n",
    "\n",
    "trainer = Trainer(\n",
    "    model=model,\n",
    "    args=training_args,\n",
    "    train_dataset=train_ds,\n",
    "    eval_dataset=test_ds,\n",
    "    tokenizer=tokenizer,\n",
    ")\n",
    "\n",
    "trainer.train()"
   ]
  },
  {
   "cell_type": "markdown",
   "metadata": {},
   "source": [
    "## 🔹 Step 4: Test on New Example"
   ]
  },
  {
   "cell_type": "code",
   "execution_count": null,
   "metadata": {},
   "outputs": [],
   "source": [
    "def predict_label(text):\n",
    "    inputs = tokenizer(text, return_tensors=\"pt\", truncation=True, padding=True)\n",
    "    outputs = model(**inputs)\n",
    "    predicted_class_id = torch.argmax(outputs.logits).item()\n",
    "    return id2label[predicted_class_id]\n",
    "\n",
    "predict_label(\"Book a table at an Italian restaurant for tonight\")"
   ]
  }
 ],
 "metadata": {
  "kernelspec": {
   "display_name": "Python 3",
   "language": "python",
   "name": "python3"
  },
  "language_info": {
   "name": "python",
   "version": ""
  }
 },
 "nbformat": 4,
 "nbformat_minor": 2
}
